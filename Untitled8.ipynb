{
 "cells": [
  {
   "cell_type": "code",
   "execution_count": null,
   "metadata": {},
   "outputs": [],
   "source": [
    "'''Have the function StringChallenge(sen) take the sen parameter being passed and return the longest word in the string. If there are two or more words that are the same length, return the first word from the string with that length. Ignore punctuation and assume sen will not be empty. Words may also contain numbers, for example \"Hello world123 567\"\n",
    "Once your function is working, take the final output string and remove any characters (case-insensitive) from it that appear in your ChallengeToken. If the new final string is empty, return the string EMPTY.\n",
    "\n",
    "Your ChallengeToken: l0z8yp7e34'''\n",
    "\n",
    "def StringChallenge(sen):\n",
    "    \n",
    "    sen=list(sen.split(\" \"))\n",
    "    sen=[''.join(e for e in string if e.isalnum()) for string in sen]\n",
    "\n",
    "    max_word=''\n",
    "    \n",
    "    for string in sen:\n",
    "        if len(string)>len(max_word):\n",
    "            max_word=string\n",
    "  \n",
    "    sen=max_word\n",
    "\n",
    "  #time to remove the token from the the output\n",
    "  \n",
    "    token='l0z8yp7e34'\n",
    "    sen=sen.lower()\n",
    "    \n",
    "    for char in token:\n",
    "        sen=sen.replace(char, '')\n",
    "        \n",
    "    if len(sen)==0:\n",
    "        return \"EMPTY\"\n",
    "    else:\n",
    "        return sen\n",
    "\n",
    "        \n",
    "# keep this function call here \n",
    "print(StringChallenge(input()))\n"
   ]
  },
  {
   "cell_type": "code",
   "execution_count": null,
   "metadata": {},
   "outputs": [],
   "source": [
    "'''Have the function ArrayChallenge(arr) take the array of numbers stored in arr and return the index at which the numbers stop increasing and begin decreasing or stop decreasing and begin increasing. For example: if arr is [1, 2, 4, 6, 4, 3, 1] then your program should return 3 because 6 is the last point in the array where the numbers were increasing and the next number begins a decreasing sequence. The array will contain at least 3 numbers and it may contains only a single sequence, increasing or decreasing. If there is only a single sequence in the array, then your program should return -1. Indexing should begin with 0.'''\n",
    "\n",
    "def ArrayChallenge(arr):\n",
    "\n",
    "  #if min and max are at index 0 and len(arr), return -1 bc indicates only 1 sequence increasing or decreasing \n",
    "\n",
    "  if arr.index(max(arr))==0 and arr.index(min(arr))+1==len(arr) or arr.index(max(arr))+1==len(arr) and arr.index(min(arr))==0:\n",
    "    return -1\n",
    "  \n",
    "  # other cases\n",
    "  \n",
    "  else:\n",
    "    \n",
    "    flag = 0\n",
    "\n",
    "    for i in range(len(arr)-1):\n",
    "      if arr[i] < arr[i+1]:\n",
    "        if flag==0:\n",
    "          flag = 1\n",
    "        elif flag == -1:\n",
    "          return i\n",
    "\n",
    "      elif arr[i]>arr[i+1]:\n",
    "        if flag == 0:\n",
    "          flag = -1\n",
    "        elif flag == 1:\n",
    "          return i\n",
    "      \n",
    "     \n",
    "  return arr\n",
    "\n",
    "# keep this function call here \n",
    "print(ArrayChallenge(input()))\n",
    "\n",
    "\n",
    "------------------------------------------------------\n",
    "\n",
    "def ArrayChallenge(arr):\n",
    "\n",
    "    flag = 0\n",
    "\n",
    "    for i in range(len(arr)-1):\n",
    "        if arr[i] < arr[i+1]:\n",
    "            if flag==0:\n",
    "                flag = 1\n",
    "        elif flag == -1:\n",
    "            return i\n",
    "        \n",
    "        elif arr[i]>arr[i+1]:\n",
    "            if flag == 0:\n",
    "                flag = -1\n",
    "        elif flag == 1:\n",
    "            return i\n",
    "\n",
    "    return -1\n",
    "        \n",
    "\n",
    "# keep this function call here \n",
    "print(ArrayChallenge(input()))"
   ]
  },
  {
   "cell_type": "code",
   "execution_count": 260,
   "metadata": {},
   "outputs": [],
   "source": [
    "'''Have the function MathChallenge(str) take the str parameter being passed and determine if there is some substring K that can be repeated N > 1 times to produce the input string exactly as it appears. Your program should return the longest substring K, and if there is none it should return the string -1.\n",
    "\n",
    "For example: if str is \"abcababcababcab\" then your program should return abcab because that is the longest substring that is repeated 3 times to create the final string. Another example: if str is \"abababababab\" then your program should return ababab because it is the longest substring. If the input string contains only a single character, your program should return the string -1'''\n",
    "\n",
    "def MathChallenge(strParam):\n",
    "\n",
    "    if len(set(strParam)) == 1:\n",
    "            return -1\n",
    "\n",
    "    longest=''\n",
    "    substring=''\n",
    "\n",
    "    for i in range (0,len(strParam)//2):\n",
    "        substring+=strParam[i]\n",
    "        if substring*(len(strParam)//len(substring)) == strParam:\n",
    "            longest=substring\n",
    "\n",
    "    if longest:\n",
    "        return longest\n",
    "    else:\n",
    "        return -1"
   ]
  },
  {
   "cell_type": "code",
   "execution_count": 266,
   "metadata": {},
   "outputs": [
    {
     "data": {
      "text/plain": [
       "['<div>abc</div', 'p', 'em', 'i>test test test</b', '/em', '/p>']"
      ]
     },
     "execution_count": 266,
     "metadata": {},
     "output_type": "execute_result"
    }
   ],
   "source": [
    "string=\"<div>abc</div><p><em><i>test test test</b></em></p>\"\n",
    "string.split(\"><\")"
   ]
  },
  {
   "cell_type": "code",
   "execution_count": 301,
   "metadata": {},
   "outputs": [],
   "source": [
    "import re\n",
    "\n",
    "\n",
    "open_tags=['<b>', '<i>', '<em>', '<div>', '<p>']\n",
    "close_tags=['</b>', '</i>', '</em>', '</div>', '</p>']\n",
    "\n",
    "\n",
    "string = \"<div>abc</div><p><em><i>test test test</b></em></p>\"\n",
    "pattern = r'(<[^>]+>)'"
   ]
  },
  {
   "cell_type": "code",
   "execution_count": 302,
   "metadata": {},
   "outputs": [],
   "source": [
    "x=re.split(pattern,string)"
   ]
  },
  {
   "cell_type": "code",
   "execution_count": 307,
   "metadata": {},
   "outputs": [
    {
     "data": {
      "text/plain": [
       "['',\n",
       " '<div>',\n",
       " 'abc',\n",
       " '</div>',\n",
       " '',\n",
       " '<p>',\n",
       " '',\n",
       " '<em>',\n",
       " '',\n",
       " '<i>',\n",
       " 'test test test',\n",
       " '</b>',\n",
       " '',\n",
       " '</em>',\n",
       " '',\n",
       " '</p>',\n",
       " '']"
      ]
     },
     "execution_count": 307,
     "metadata": {},
     "output_type": "execute_result"
    }
   ],
   "source": [
    "x"
   ]
  },
  {
   "cell_type": "code",
   "execution_count": 311,
   "metadata": {},
   "outputs": [],
   "source": [
    "order_tags=[]\n",
    "\n",
    "for i in x:\n",
    "    if i in open_tags:\n",
    "        order_tags.append(i)\n",
    "    elif i in close_tags:\n",
    "        order_tags.append(i)"
   ]
  },
  {
   "cell_type": "code",
   "execution_count": 312,
   "metadata": {},
   "outputs": [
    {
     "data": {
      "text/plain": [
       "['<div>', '</div>', '<p>', '<em>', '<i>', '</b>', '</em>', '</p>']"
      ]
     },
     "execution_count": 312,
     "metadata": {},
     "output_type": "execute_result"
    }
   ],
   "source": [
    "order_tags"
   ]
  },
  {
   "cell_type": "code",
   "execution_count": 351,
   "metadata": {},
   "outputs": [
    {
     "name": "stdout",
     "output_type": "stream",
     "text": [
      "\"<div>abc</div><p><em><i>test test test</b></em></p>\"\n",
      "['<div>']\n",
      "[]\n",
      "i\n"
     ]
    }
   ],
   "source": [
    "def HTMLElements(strParam):\n",
    "    open_tags = ['<b>', '<i>', '<em>', '<div>', '<p>']\n",
    "    close_tags = ['</b>', '</i>', '</em>', '</div>', '</p>']\n",
    "\n",
    "    stack = []\n",
    "\n",
    "    tags = re.split('(<[^>]*>)', strParam)\n",
    "    for tag in tags:\n",
    "        if tag in open_tags:\n",
    "            stack.append(tag)\n",
    "           \n",
    "        elif tag in close_tags:\n",
    "            check = close_tags.index(tag)\n",
    "           \n",
    "            if (len(stack) > 0) and (open_tags[check] == stack[len(stack)-1]):\n",
    "                print(stack)\n",
    "                stack.pop()\n",
    "                print(stack)\n",
    "                \n",
    "                \n",
    "    if stack:\n",
    "        return stack[-1].replace('<', '').replace('>', '')\n",
    "\n",
    "    return True\n",
    "\n",
    "\n",
    "print(HTMLElements(input()))"
   ]
  },
  {
   "cell_type": "code",
   "execution_count": null,
   "metadata": {},
   "outputs": [],
   "source": []
  }
 ],
 "metadata": {
  "kernelspec": {
   "display_name": "Python 3",
   "language": "python",
   "name": "python3"
  },
  "language_info": {
   "codemirror_mode": {
    "name": "ipython",
    "version": 3
   },
   "file_extension": ".py",
   "mimetype": "text/x-python",
   "name": "python",
   "nbconvert_exporter": "python",
   "pygments_lexer": "ipython3",
   "version": "3.8.5"
  }
 },
 "nbformat": 4,
 "nbformat_minor": 4
}
